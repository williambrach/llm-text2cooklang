{
 "cells": [
  {
   "cell_type": "code",
   "execution_count": null,
   "metadata": {},
   "outputs": [],
   "source": [
    "import pandas as pd\n",
    "import os\n",
    "import cooklang\n",
    "import re"
   ]
  },
  {
   "cell_type": "code",
   "execution_count": null,
   "metadata": {},
   "outputs": [],
   "source": [
    "example_df = pd.read_csv(\"data/bronze/cooklang_dataset_with_method.tsv\", sep=\"\\t\")\n",
    "example_df.head()"
   ]
  },
  {
   "cell_type": "code",
   "execution_count": null,
   "metadata": {},
   "outputs": [],
   "source": [
    "def get_method(recipe : str):\n",
    "    method = []\n",
    "    for s in cooklang.parseRecipe(recipe)['steps']:\n",
    "        for ss in s:\n",
    "            if 'value' in ss:\n",
    "                if not ss['value'].startswith(\"-\"):\n",
    "                    method.append(ss['value'])\n",
    "    method = \".\".join(method[1:]).strip().strip(\".\")\n",
    "    return method\n",
    "\n",
    "def parse_ingredients(recipe: str):\n",
    "    cooklang_recipe = cooklang.parseRecipe(recipe.replace(\"--\", \" \"))\n",
    "    ingredients = cooklang_recipe[\"ingredients\"]\n",
    "\n",
    "    ingredients = [\n",
    "        f\"{i['quantity'].rstrip('0').rstrip(\".\")} {i['units']} {i['name']}\".strip().replace(\".000\", \"\")\n",
    "        for i in ingredients\n",
    "    ]\n",
    "    return \",\".join(ingredients)\n",
    "\n",
    "\n",
    "# find all files that are in data/bronze/recipes and has .source extension it should also check subdirectories\n",
    "source_files = []\n",
    "for root, dirs, files in os.walk('data/bronze/recipes'):\n",
    "    for file in files:\n",
    "        if file.endswith('.source'):\n",
    "            source_files.append(os.path.join(root, file))\n",
    "\n",
    "data = []\n",
    "for file_path in source_files:\n",
    "    with (open(file_path, 'r')) as f:\n",
    "        recipe_text = f.read()\n",
    "    method = get_method(recipe_text)\n",
    "    with (open(file_path.replace(\".source\",\".cook\" ), 'r')) as f:\n",
    "        cooklang_text = f.read()\n",
    "    ingredients = parse_ingredients(cooklang_text)\n",
    "    if method == \"\":\n",
    "        continue\n",
    "    data.append(\n",
    "        {\n",
    "            \"source\" : file_path,\n",
    "            \"name\" : os.path.basename(file_path).replace(\".source\", \"\"),\n",
    "            \"metadata\" : None,\n",
    "            \"method\": method, \n",
    "            \"ingredients\": ingredients,\n",
    "            \"cooklang\" : cooklang_text.strip().strip(\"\\n\"),\n",
    "        }\n",
    "    )\n",
    "df = pd.DataFrame(data)\n",
    "df.to_csv('data/bronze/recipe_dataset_with_method.tsv', sep='\\t', index=False)"
   ]
  },
  {
   "cell_type": "code",
   "execution_count": null,
   "metadata": {},
   "outputs": [],
   "source": [
    "source_files = []\n",
    "for root, dirs, files in os.walk(\"data/bronze/bonmot\"):\n",
    "    for file in files:\n",
    "        if file.endswith(\".source\"):\n",
    "            source_files.append(os.path.join(root, file))\n",
    "\n",
    "data = []\n",
    "for file_path in source_files:\n",
    "    with open(file_path, \"r\") as f:\n",
    "        cook_text = f.read()\n",
    "    cook_text = \"\\n\".join(\n",
    "        [line for line in cook_text.split(\"\\n\") if not line.startswith(\">>\")]\n",
    "    )\n",
    "\n",
    "    method_text = cook_text.replace(\"@\", \"\")\n",
    "    method_text = re.sub(r\"\\{[^}]*\\}\", \"\", method_text)\n",
    "    method = get_method(method_text)\n",
    "\n",
    "    ingredients = parse_ingredients(cook_text)\n",
    "    if method == \"\":\n",
    "        continue\n",
    "    data.append(\n",
    "        {\n",
    "            \"source\": file_path,\n",
    "            \"name\": os.path.basename(file_path).replace(\".source\", \"\"),\n",
    "            \"metadata\": None,\n",
    "            \"method\": method,\n",
    "            \"ingredients\": ingredients,\n",
    "            \"cooklang\": cook_text.strip().strip(\"\\n\"),\n",
    "        }\n",
    "    )\n",
    "df = pd.DataFrame(data)\n",
    "df = df[df[\"ingredients\"] != \"\"]\n",
    "df = df.reset_index(drop=True)\n",
    "df.to_csv(\"data/bronze/bonmot_dataset_with_method.tsv\", sep=\"\\t\", index=False)"
   ]
  }
 ],
 "metadata": {
  "kernelspec": {
   "display_name": "text2cooklang",
   "language": "python",
   "name": "python3"
  },
  "language_info": {
   "codemirror_mode": {
    "name": "ipython",
    "version": 3
   },
   "file_extension": ".py",
   "mimetype": "text/x-python",
   "name": "python",
   "nbconvert_exporter": "python",
   "pygments_lexer": "ipython3",
   "version": "3.12.5"
  }
 },
 "nbformat": 4,
 "nbformat_minor": 2
}
